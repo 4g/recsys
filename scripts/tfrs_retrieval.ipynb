{
 "cells": [
  {
   "cell_type": "code",
   "execution_count": 1,
   "id": "54134543-6bac-4310-acbc-6f8b3cebb014",
   "metadata": {},
   "outputs": [],
   "source": [
    "from datalib import Datastore, Fields\n",
    "import pandas as pd\n",
    "import random\n",
    "import numpy as np"
   ]
  },
  {
   "cell_type": "code",
   "execution_count": 2,
   "id": "a6559bc9-6468-4ae7-947d-66864bc03928",
   "metadata": {},
   "outputs": [
    {
     "name": "stdout",
     "output_type": "stream",
     "text": [
      "Loaded data/sample42/\n"
     ]
    }
   ],
   "source": [
    "data = Datastore().load_from_dir(\"data/sample42/\")"
   ]
  },
  {
   "cell_type": "code",
   "execution_count": 3,
   "id": "8f4b4f0b-cc8a-40a6-9475-1e0c6f4dc6a3",
   "metadata": {},
   "outputs": [],
   "source": [
    "import tensorflow_recommenders as tfrs\n",
    "import tensorflow as tf"
   ]
  },
  {
   "cell_type": "code",
   "execution_count": 4,
   "id": "03c41cee-796f-449d-bcdf-a1383bc94f88",
   "metadata": {},
   "outputs": [
    {
     "name": "stderr",
     "output_type": "stream",
     "text": [
      "2022-03-03 12:14:44.826456: I tensorflow/stream_executor/cuda/cuda_gpu_executor.cc:936] successful NUMA node read from SysFS had negative value (-1), but there must be at least one NUMA node, so returning NUMA node zero\n",
      "2022-03-03 12:14:44.830476: I tensorflow/stream_executor/cuda/cuda_gpu_executor.cc:936] successful NUMA node read from SysFS had negative value (-1), but there must be at least one NUMA node, so returning NUMA node zero\n",
      "2022-03-03 12:14:44.830831: I tensorflow/stream_executor/cuda/cuda_gpu_executor.cc:936] successful NUMA node read from SysFS had negative value (-1), but there must be at least one NUMA node, so returning NUMA node zero\n",
      "2022-03-03 12:14:44.831653: I tensorflow/core/platform/cpu_feature_guard.cc:151] This TensorFlow binary is optimized with oneAPI Deep Neural Network Library (oneDNN) to use the following CPU instructions in performance-critical operations:  AVX2 FMA\n",
      "To enable them in other operations, rebuild TensorFlow with the appropriate compiler flags.\n",
      "2022-03-03 12:14:44.832058: I tensorflow/stream_executor/cuda/cuda_gpu_executor.cc:936] successful NUMA node read from SysFS had negative value (-1), but there must be at least one NUMA node, so returning NUMA node zero\n",
      "2022-03-03 12:14:44.832435: I tensorflow/stream_executor/cuda/cuda_gpu_executor.cc:936] successful NUMA node read from SysFS had negative value (-1), but there must be at least one NUMA node, so returning NUMA node zero\n",
      "2022-03-03 12:14:44.832745: I tensorflow/stream_executor/cuda/cuda_gpu_executor.cc:936] successful NUMA node read from SysFS had negative value (-1), but there must be at least one NUMA node, so returning NUMA node zero\n",
      "2022-03-03 12:14:45.291120: I tensorflow/stream_executor/cuda/cuda_gpu_executor.cc:936] successful NUMA node read from SysFS had negative value (-1), but there must be at least one NUMA node, so returning NUMA node zero\n",
      "2022-03-03 12:14:45.291469: I tensorflow/stream_executor/cuda/cuda_gpu_executor.cc:936] successful NUMA node read from SysFS had negative value (-1), but there must be at least one NUMA node, so returning NUMA node zero\n",
      "2022-03-03 12:14:45.291763: I tensorflow/stream_executor/cuda/cuda_gpu_executor.cc:936] successful NUMA node read from SysFS had negative value (-1), but there must be at least one NUMA node, so returning NUMA node zero\n",
      "2022-03-03 12:14:45.292020: W tensorflow/core/common_runtime/gpu/gpu_bfc_allocator.cc:39] Overriding allow_growth setting because the TF_FORCE_GPU_ALLOW_GROWTH environment variable is set. Original config value was 0.\n",
      "2022-03-03 12:14:45.292048: I tensorflow/core/common_runtime/gpu/gpu_device.cc:1525] Created device /job:localhost/replica:0/task:0/device:GPU:0 with 6251 MB memory:  -> device: 0, name: GeForce RTX 2080 SUPER, pci bus id: 0000:01:00.0, compute capability: 7.5\n"
     ]
    }
   ],
   "source": [
    "unique_user_ids = np.asarray(data.customers.customer_id.values)\n",
    "user_model = tf.keras.Sequential([\n",
    "  tf.keras.layers.StringLookup(\n",
    "      vocabulary=unique_user_ids, mask_token=None),\n",
    "  # We add an additional embedding to account for unknown tokens.\n",
    "  tf.keras.layers.Embedding(len(unique_user_ids) + 1, 32)\n",
    "])"
   ]
  },
  {
   "cell_type": "code",
   "execution_count": 5,
   "id": "e1dcbf36-8702-49e8-9630-920a1b4b4de3",
   "metadata": {},
   "outputs": [],
   "source": [
    "user_model.compile()"
   ]
  },
  {
   "cell_type": "code",
   "execution_count": 6,
   "id": "fdbda260-1f93-4bdb-bbef-062d1ea66e4d",
   "metadata": {},
   "outputs": [
    {
     "ename": "ValueError",
     "evalue": "This model has not yet been built. Build the model first by calling `build()` or by calling the model on a batch of data.",
     "output_type": "error",
     "traceback": [
      "\u001b[0;31m---------------------------------------------------------------------------\u001b[0m",
      "\u001b[0;31mValueError\u001b[0m                                Traceback (most recent call last)",
      "\u001b[0;32m/tmp/ipykernel_13136/2684851158.py\u001b[0m in \u001b[0;36m<module>\u001b[0;34m\u001b[0m\n\u001b[0;32m----> 1\u001b[0;31m \u001b[0muser_model\u001b[0m\u001b[0;34m.\u001b[0m\u001b[0msummary\u001b[0m\u001b[0;34m(\u001b[0m\u001b[0;34m)\u001b[0m\u001b[0;34m\u001b[0m\u001b[0;34m\u001b[0m\u001b[0m\n\u001b[0m",
      "\u001b[0;32m~/py3n/lib/python3.7/site-packages/keras/engine/training.py\u001b[0m in \u001b[0;36msummary\u001b[0;34m(self, line_length, positions, print_fn, expand_nested, show_trainable)\u001b[0m\n\u001b[1;32m   2774\u001b[0m     \u001b[0;32mif\u001b[0m \u001b[0;32mnot\u001b[0m \u001b[0mself\u001b[0m\u001b[0;34m.\u001b[0m\u001b[0mbuilt\u001b[0m\u001b[0;34m:\u001b[0m\u001b[0;34m\u001b[0m\u001b[0;34m\u001b[0m\u001b[0m\n\u001b[1;32m   2775\u001b[0m       raise ValueError(\n\u001b[0;32m-> 2776\u001b[0;31m           \u001b[0;34m'This model has not yet been built. '\u001b[0m\u001b[0;34m\u001b[0m\u001b[0;34m\u001b[0m\u001b[0m\n\u001b[0m\u001b[1;32m   2777\u001b[0m           \u001b[0;34m'Build the model first by calling `build()` or by calling '\u001b[0m\u001b[0;34m\u001b[0m\u001b[0;34m\u001b[0m\u001b[0m\n\u001b[1;32m   2778\u001b[0m           'the model on a batch of data.')\n",
      "\u001b[0;31mValueError\u001b[0m: This model has not yet been built. Build the model first by calling `build()` or by calling the model on a batch of data."
     ]
    }
   ],
   "source": []
  },
  {
   "cell_type": "code",
   "execution_count": 7,
   "id": "fd7ffc3f-752f-4eef-aa45-a6501b123b15",
   "metadata": {},
   "outputs": [],
   "source": [
    "unique_movie_titles = np.unique(list(data.transactions.article_id.values))\n",
    "movies = tf.data.Dataset.from_tensor_slices(unique_movie_titles)\n",
    "article_model = tf.keras.Sequential([\n",
    "    tf.keras.layers.IntegerLookup(\n",
    "      vocabulary=unique_movie_titles, mask_token=None),\n",
    "  tf.keras.layers.Embedding(len(unique_movie_titles) + 1, 32)\n",
    "]) "
   ]
  },
  {
   "cell_type": "code",
   "execution_count": 8,
   "id": "dfed5ff8-6f2d-4bed-a592-65a0324ddfdf",
   "metadata": {},
   "outputs": [],
   "source": [
    "metrics = tfrs.metrics.FactorizedTopK(\n",
    "  candidates=movies.batch(128).map(article_model)\n",
    ")"
   ]
  },
  {
   "cell_type": "code",
   "execution_count": 9,
   "id": "8e620800-e200-42e7-a51b-6e42078f89b1",
   "metadata": {},
   "outputs": [],
   "source": [
    "task = tfrs.tasks.Retrieval(\n",
    "  metrics=metrics\n",
    ")"
   ]
  },
  {
   "cell_type": "code",
   "execution_count": 10,
   "id": "b168ec3a-030b-44d4-a929-526b499d755a",
   "metadata": {},
   "outputs": [],
   "source": [
    "class MovielensModel(tfrs.Model):\n",
    "\n",
    "  def __init__(self, user_model, movie_model, task):\n",
    "    super().__init__()\n",
    "    self.movie_model: tf.keras.Model = movie_model\n",
    "    self.user_model: tf.keras.Model = user_model\n",
    "    self.task: tf.keras.layers.Layer = task\n",
    "\n",
    "  def compute_loss(self, features, training=False) -> tf.Tensor:\n",
    "    # We pick out the user features and pass them into the user model.\n",
    "    user_embeddings = self.user_model(features['customer_id'])\n",
    "    # And pick out the movie features and pass them into the movie model,\n",
    "    # getting embeddings back.\n",
    "    positive_movie_embeddings = self.movie_model(features['article_id'])\n",
    "\n",
    "    # The task computes the loss and the metrics.\n",
    "    return self.task(user_embeddings, positive_movie_embeddings)"
   ]
  },
  {
   "cell_type": "code",
   "execution_count": 11,
   "id": "12001a7d-55f3-477a-a773-98ad7cae9f9c",
   "metadata": {},
   "outputs": [],
   "source": [
    "model = MovielensModel(user_model, article_model, task)\n",
    "model.compile(optimizer=tf.keras.optimizers.Adagrad(learning_rate=0.1))"
   ]
  },
  {
   "cell_type": "code",
   "execution_count": 12,
   "id": "e20f7e8f-3531-43a3-9411-d44f4fdfc22f",
   "metadata": {},
   "outputs": [],
   "source": [
    "train_customer_id = data.transactions.customer_id.values\n",
    "train_article = np.asarray(data.transactions.article_id.values, dtype=np.int32)"
   ]
  },
  {
   "cell_type": "code",
   "execution_count": 13,
   "id": "a48d1718-16d1-4d34-8d94-5eb2a7f46656",
   "metadata": {},
   "outputs": [],
   "source": [
    "train_ds = tf.data.Dataset.from_tensor_slices(dict(data.transactions[['customer_id', 'article_id']]))"
   ]
  },
  {
   "cell_type": "code",
   "execution_count": null,
   "id": "8fde7101-5e14-4ba7-8c9e-b39dc40d5d0d",
   "metadata": {},
   "outputs": [],
   "source": []
  },
  {
   "cell_type": "code",
   "execution_count": 14,
   "id": "63e138ea-1346-479b-a0f0-09d98f14dd90",
   "metadata": {},
   "outputs": [
    {
     "name": "stdout",
     "output_type": "stream",
     "text": [
      "{'customer_id': <tf.Tensor: shape=(), dtype=string, numpy=b'001fd23db1109a94bba1319bb73df0b479059027c182da490e1161b34cd3af61'>, 'article_id': <tf.Tensor: shape=(), dtype=int64, numpy=631744002>}\n",
      "{'customer_id': <tf.Tensor: shape=(), dtype=string, numpy=b'001fd23db1109a94bba1319bb73df0b479059027c182da490e1161b34cd3af61'>, 'article_id': <tf.Tensor: shape=(), dtype=int64, numpy=562252035>}\n",
      "{'customer_id': <tf.Tensor: shape=(), dtype=string, numpy=b'00708c3da4d07706d4cad77c6aecc1b1ce33d21d73022ca12737c91d85bff070'>, 'article_id': <tf.Tensor: shape=(), dtype=int64, numpy=255396006>}\n"
     ]
    }
   ],
   "source": [
    "for elem in train_ds.take(3):\n",
    "    print(elem)"
   ]
  },
  {
   "cell_type": "markdown",
   "id": "ec2864a9-900e-447a-a5e1-74d9e346e8aa",
   "metadata": {},
   "source": []
  },
  {
   "cell_type": "code",
   "execution_count": 15,
   "id": "829f3cd6-cbfb-479d-ae58-c92a84f27698",
   "metadata": {},
   "outputs": [],
   "source": [
    "cached_train = train_ds.batch(128).cache()"
   ]
  },
  {
   "cell_type": "code",
   "execution_count": 16,
   "id": "1251d911-e298-4509-8219-00cd23aed556",
   "metadata": {},
   "outputs": [
    {
     "name": "stdout",
     "output_type": "stream",
     "text": [
      "{'customer_id': <tf.Tensor: shape=(128,), dtype=string, numpy=\n",
      "array([b'001fd23db1109a94bba1319bb73df0b479059027c182da490e1161b34cd3af61',\n",
      "       b'001fd23db1109a94bba1319bb73df0b479059027c182da490e1161b34cd3af61',\n",
      "       b'00708c3da4d07706d4cad77c6aecc1b1ce33d21d73022ca12737c91d85bff070',\n",
      "       b'00708c3da4d07706d4cad77c6aecc1b1ce33d21d73022ca12737c91d85bff070',\n",
      "       b'00708c3da4d07706d4cad77c6aecc1b1ce33d21d73022ca12737c91d85bff070',\n",
      "       b'007ea762fbbebfad288a49f1d8f7c2c0c62b189a8816fa6968e60f2c197ce938',\n",
      "       b'00b6ec8613e51d8eadc5157f5a12ae1366ca29da7d44cc8d0ae1e667dea6f268',\n",
      "       b'00b6ec8613e51d8eadc5157f5a12ae1366ca29da7d44cc8d0ae1e667dea6f268',\n",
      "       b'00b6ec8613e51d8eadc5157f5a12ae1366ca29da7d44cc8d0ae1e667dea6f268',\n",
      "       b'00d316a9b10b3d21094e4931f41a42ec7d093bbbd53c7b656ad830be8e6d1565',\n",
      "       b'00d316a9b10b3d21094e4931f41a42ec7d093bbbd53c7b656ad830be8e6d1565',\n",
      "       b'00d781e94d9a533dceb85a8d50a898d5987ad9921ea8c6945c247be7220bdd81',\n",
      "       b'00d781e94d9a533dceb85a8d50a898d5987ad9921ea8c6945c247be7220bdd81',\n",
      "       b'00d781e94d9a533dceb85a8d50a898d5987ad9921ea8c6945c247be7220bdd81',\n",
      "       b'00d781e94d9a533dceb85a8d50a898d5987ad9921ea8c6945c247be7220bdd81',\n",
      "       b'00d781e94d9a533dceb85a8d50a898d5987ad9921ea8c6945c247be7220bdd81',\n",
      "       b'0132d21d866697c428e4d6ffb02548fd71966aa88c8f5adea314e2341f8ad87b',\n",
      "       b'0132d21d866697c428e4d6ffb02548fd71966aa88c8f5adea314e2341f8ad87b',\n",
      "       b'0132d21d866697c428e4d6ffb02548fd71966aa88c8f5adea314e2341f8ad87b',\n",
      "       b'0132d21d866697c428e4d6ffb02548fd71966aa88c8f5adea314e2341f8ad87b',\n",
      "       b'0132d21d866697c428e4d6ffb02548fd71966aa88c8f5adea314e2341f8ad87b',\n",
      "       b'0132d21d866697c428e4d6ffb02548fd71966aa88c8f5adea314e2341f8ad87b',\n",
      "       b'0132d21d866697c428e4d6ffb02548fd71966aa88c8f5adea314e2341f8ad87b',\n",
      "       b'0132d21d866697c428e4d6ffb02548fd71966aa88c8f5adea314e2341f8ad87b',\n",
      "       b'0132d21d866697c428e4d6ffb02548fd71966aa88c8f5adea314e2341f8ad87b',\n",
      "       b'01b0efc42c236759c44edb9b3c97c9f213d581ce647cf8b16659a9b2eb104df6',\n",
      "       b'01c3653cafdd569ef34e36810d1c1bda71c0d425e568278d0cfe05cfb6604a1a',\n",
      "       b'01c3653cafdd569ef34e36810d1c1bda71c0d425e568278d0cfe05cfb6604a1a',\n",
      "       b'01fbe7968ede05b116c4d878d47ed4fd33db355c4b3311c2967858f059a65dde',\n",
      "       b'01fbe7968ede05b116c4d878d47ed4fd33db355c4b3311c2967858f059a65dde',\n",
      "       b'01fbe7968ede05b116c4d878d47ed4fd33db355c4b3311c2967858f059a65dde',\n",
      "       b'01fbe7968ede05b116c4d878d47ed4fd33db355c4b3311c2967858f059a65dde',\n",
      "       b'01fbe7968ede05b116c4d878d47ed4fd33db355c4b3311c2967858f059a65dde',\n",
      "       b'01fbe7968ede05b116c4d878d47ed4fd33db355c4b3311c2967858f059a65dde',\n",
      "       b'01fbe7968ede05b116c4d878d47ed4fd33db355c4b3311c2967858f059a65dde',\n",
      "       b'01fbe7968ede05b116c4d878d47ed4fd33db355c4b3311c2967858f059a65dde',\n",
      "       b'01fbe7968ede05b116c4d878d47ed4fd33db355c4b3311c2967858f059a65dde',\n",
      "       b'025b18696068392821f083b1eebb31dee1f6704f243f909c025dfacd075bdaf2',\n",
      "       b'025b18696068392821f083b1eebb31dee1f6704f243f909c025dfacd075bdaf2',\n",
      "       b'025b18696068392821f083b1eebb31dee1f6704f243f909c025dfacd075bdaf2',\n",
      "       b'026e959b1715d59d827c377bd1f9ee4464e105695241a2f4053385d036aae6a0',\n",
      "       b'026e959b1715d59d827c377bd1f9ee4464e105695241a2f4053385d036aae6a0',\n",
      "       b'027dc9299f3cd24a1b30fa3bc25dd619993f7e49e231debc3f256efad523407d',\n",
      "       b'027dc9299f3cd24a1b30fa3bc25dd619993f7e49e231debc3f256efad523407d',\n",
      "       b'02d796ea767fa2e94fc6228fe70d8af1a570da973c32f7ddbe7ac747ce4a6666',\n",
      "       b'02d796ea767fa2e94fc6228fe70d8af1a570da973c32f7ddbe7ac747ce4a6666',\n",
      "       b'02d796ea767fa2e94fc6228fe70d8af1a570da973c32f7ddbe7ac747ce4a6666',\n",
      "       b'02d796ea767fa2e94fc6228fe70d8af1a570da973c32f7ddbe7ac747ce4a6666',\n",
      "       b'02d796ea767fa2e94fc6228fe70d8af1a570da973c32f7ddbe7ac747ce4a6666',\n",
      "       b'02d796ea767fa2e94fc6228fe70d8af1a570da973c32f7ddbe7ac747ce4a6666',\n",
      "       b'02d796ea767fa2e94fc6228fe70d8af1a570da973c32f7ddbe7ac747ce4a6666',\n",
      "       b'02d796ea767fa2e94fc6228fe70d8af1a570da973c32f7ddbe7ac747ce4a6666',\n",
      "       b'02d796ea767fa2e94fc6228fe70d8af1a570da973c32f7ddbe7ac747ce4a6666',\n",
      "       b'02d796ea767fa2e94fc6228fe70d8af1a570da973c32f7ddbe7ac747ce4a6666',\n",
      "       b'02d796ea767fa2e94fc6228fe70d8af1a570da973c32f7ddbe7ac747ce4a6666',\n",
      "       b'02d796ea767fa2e94fc6228fe70d8af1a570da973c32f7ddbe7ac747ce4a6666',\n",
      "       b'02d796ea767fa2e94fc6228fe70d8af1a570da973c32f7ddbe7ac747ce4a6666',\n",
      "       b'02d796ea767fa2e94fc6228fe70d8af1a570da973c32f7ddbe7ac747ce4a6666',\n",
      "       b'02d796ea767fa2e94fc6228fe70d8af1a570da973c32f7ddbe7ac747ce4a6666',\n",
      "       b'02d796ea767fa2e94fc6228fe70d8af1a570da973c32f7ddbe7ac747ce4a6666',\n",
      "       b'02d796ea767fa2e94fc6228fe70d8af1a570da973c32f7ddbe7ac747ce4a6666',\n",
      "       b'02e45757a6bc483ef7a9d086c3800bdab53ac1cb9840cfad4381d4fdea7820bc',\n",
      "       b'02e45757a6bc483ef7a9d086c3800bdab53ac1cb9840cfad4381d4fdea7820bc',\n",
      "       b'02e45757a6bc483ef7a9d086c3800bdab53ac1cb9840cfad4381d4fdea7820bc',\n",
      "       b'02e45757a6bc483ef7a9d086c3800bdab53ac1cb9840cfad4381d4fdea7820bc',\n",
      "       b'02e45757a6bc483ef7a9d086c3800bdab53ac1cb9840cfad4381d4fdea7820bc',\n",
      "       b'02e45757a6bc483ef7a9d086c3800bdab53ac1cb9840cfad4381d4fdea7820bc',\n",
      "       b'02e45757a6bc483ef7a9d086c3800bdab53ac1cb9840cfad4381d4fdea7820bc',\n",
      "       b'03023b630d51f53fcfebbbb0182e20a51de1b0463a85e9b5eef540ceefa95434',\n",
      "       b'03176a1445de4730c2ca5d514c3ce2182972ad42dfae65f4549778a2e918a7bd',\n",
      "       b'03176a1445de4730c2ca5d514c3ce2182972ad42dfae65f4549778a2e918a7bd',\n",
      "       b'03176a1445de4730c2ca5d514c3ce2182972ad42dfae65f4549778a2e918a7bd',\n",
      "       b'03176a1445de4730c2ca5d514c3ce2182972ad42dfae65f4549778a2e918a7bd',\n",
      "       b'03176a1445de4730c2ca5d514c3ce2182972ad42dfae65f4549778a2e918a7bd',\n",
      "       b'03176a1445de4730c2ca5d514c3ce2182972ad42dfae65f4549778a2e918a7bd',\n",
      "       b'03176a1445de4730c2ca5d514c3ce2182972ad42dfae65f4549778a2e918a7bd',\n",
      "       b'031b1633a7b3df1b5c63487b254981b5dd3606d8d643e99345221577cf581fee',\n",
      "       b'031b1633a7b3df1b5c63487b254981b5dd3606d8d643e99345221577cf581fee',\n",
      "       b'031b1633a7b3df1b5c63487b254981b5dd3606d8d643e99345221577cf581fee',\n",
      "       b'031b1633a7b3df1b5c63487b254981b5dd3606d8d643e99345221577cf581fee',\n",
      "       b'031b1633a7b3df1b5c63487b254981b5dd3606d8d643e99345221577cf581fee',\n",
      "       b'031b1633a7b3df1b5c63487b254981b5dd3606d8d643e99345221577cf581fee',\n",
      "       b'03748d7daaf2bd87ca7202935269c3220f335d98bd0bc1bdce16c844f6e59a25',\n",
      "       b'03748d7daaf2bd87ca7202935269c3220f335d98bd0bc1bdce16c844f6e59a25',\n",
      "       b'03748d7daaf2bd87ca7202935269c3220f335d98bd0bc1bdce16c844f6e59a25',\n",
      "       b'04c73e4d85b62091a140665b6d38d4bb2cbe2c87863bb624267709cc4240027d',\n",
      "       b'04c73e4d85b62091a140665b6d38d4bb2cbe2c87863bb624267709cc4240027d',\n",
      "       b'04c73e4d85b62091a140665b6d38d4bb2cbe2c87863bb624267709cc4240027d',\n",
      "       b'04db9585ba4e6c6bd7ab2f633736fc68035ff1001fedc075d7f22baf62c44098',\n",
      "       b'04db9585ba4e6c6bd7ab2f633736fc68035ff1001fedc075d7f22baf62c44098',\n",
      "       b'04db9585ba4e6c6bd7ab2f633736fc68035ff1001fedc075d7f22baf62c44098',\n",
      "       b'04db9585ba4e6c6bd7ab2f633736fc68035ff1001fedc075d7f22baf62c44098',\n",
      "       b'04db9585ba4e6c6bd7ab2f633736fc68035ff1001fedc075d7f22baf62c44098',\n",
      "       b'04db9585ba4e6c6bd7ab2f633736fc68035ff1001fedc075d7f22baf62c44098',\n",
      "       b'04f38557c7c3ec144a7f5e46a9e55526b2537311b2928d4adf5ea3dccc84310f',\n",
      "       b'04f38557c7c3ec144a7f5e46a9e55526b2537311b2928d4adf5ea3dccc84310f',\n",
      "       b'050a5f2898704098dfda90546654997ed9170cb1f59cf4853edac92f7246d4b3',\n",
      "       b'050a5f2898704098dfda90546654997ed9170cb1f59cf4853edac92f7246d4b3',\n",
      "       b'05396049fe558c46bfa9bd60185a713742cf5df554cceaa7a70a91c8faf5ee40',\n",
      "       b'0546426ec65aab6cbf720fbea95b03d0e1d77ef95e260fa1aeb044f381a390a2',\n",
      "       b'0546426ec65aab6cbf720fbea95b03d0e1d77ef95e260fa1aeb044f381a390a2',\n",
      "       b'05943a58bd172641b80919a9bdf14012df940800bc74d0707abdd38efc1dd4f1',\n",
      "       b'05943a58bd172641b80919a9bdf14012df940800bc74d0707abdd38efc1dd4f1',\n",
      "       b'05943a58bd172641b80919a9bdf14012df940800bc74d0707abdd38efc1dd4f1',\n",
      "       b'05943a58bd172641b80919a9bdf14012df940800bc74d0707abdd38efc1dd4f1',\n",
      "       b'05943a58bd172641b80919a9bdf14012df940800bc74d0707abdd38efc1dd4f1',\n",
      "       b'05a1943019cd09350d46e7a622035ebe6c14932853c34d208e5072b26551f844',\n",
      "       b'05a1943019cd09350d46e7a622035ebe6c14932853c34d208e5072b26551f844',\n",
      "       b'05a1943019cd09350d46e7a622035ebe6c14932853c34d208e5072b26551f844',\n",
      "       b'05a7a0a0a5dd9e5939fd0519ef0d04987dc3c5fcfe9b35b6f9288032216bf149',\n",
      "       b'05f35811e2c938b8d3a68e0d1ac0e645495a1fcd080df56168bf978da998120c',\n",
      "       b'05f35811e2c938b8d3a68e0d1ac0e645495a1fcd080df56168bf978da998120c',\n",
      "       b'05f35811e2c938b8d3a68e0d1ac0e645495a1fcd080df56168bf978da998120c',\n",
      "       b'05f35811e2c938b8d3a68e0d1ac0e645495a1fcd080df56168bf978da998120c',\n",
      "       b'05f35811e2c938b8d3a68e0d1ac0e645495a1fcd080df56168bf978da998120c',\n",
      "       b'05f35811e2c938b8d3a68e0d1ac0e645495a1fcd080df56168bf978da998120c',\n",
      "       b'05f35811e2c938b8d3a68e0d1ac0e645495a1fcd080df56168bf978da998120c',\n",
      "       b'05f86f4705e1fe94cc0fed558f895c3f2d445f442d2be85bcf6e78a338d2120e',\n",
      "       b'05f86f4705e1fe94cc0fed558f895c3f2d445f442d2be85bcf6e78a338d2120e',\n",
      "       b'05f86f4705e1fe94cc0fed558f895c3f2d445f442d2be85bcf6e78a338d2120e',\n",
      "       b'05f86f4705e1fe94cc0fed558f895c3f2d445f442d2be85bcf6e78a338d2120e',\n",
      "       b'0628992ba2d4d5bc7d9b77a7a90faab4b9a8c0e89fd3a87165e435db4c3cfb73',\n",
      "       b'0628992ba2d4d5bc7d9b77a7a90faab4b9a8c0e89fd3a87165e435db4c3cfb73',\n",
      "       b'0630f75a9aa78db222078536afe22e1d9f64a680fa54064bd441636128ce9fb1',\n",
      "       b'0653814d364bd9ce37fef7244eef50fca9bf3ce32fee277d7dd1447a2efe62a3',\n",
      "       b'0653814d364bd9ce37fef7244eef50fca9bf3ce32fee277d7dd1447a2efe62a3',\n",
      "       b'0653814d364bd9ce37fef7244eef50fca9bf3ce32fee277d7dd1447a2efe62a3',\n",
      "       b'0653814d364bd9ce37fef7244eef50fca9bf3ce32fee277d7dd1447a2efe62a3'],\n",
      "      dtype=object)>, 'article_id': <tf.Tensor: shape=(128,), dtype=int64, numpy=\n",
      "array([631744002, 562252035, 255396006, 594834010, 516712001, 610671001,\n",
      "       529008008, 594633001, 603401002, 681247002, 681247001, 685687004,\n",
      "       678983004, 616708004, 568858001, 640462002, 580469005, 580469005,\n",
      "       629305003, 553611001, 657195001, 608939002, 608939002, 518827004,\n",
      "       568597012, 615508001, 244267032, 630672001, 626168001, 583976001,\n",
      "       558428001, 636420001, 587229001, 650578001, 636418001, 188183009,\n",
      "       608952004, 156231002, 156231001, 156231001, 666223001, 543141002,\n",
      "       580482004, 643588001, 633130013, 552471001, 552471001, 564358010,\n",
      "       633130007, 633130015, 575141001, 575141001, 393447015, 393447015,\n",
      "       575347003, 602409006, 634037002, 634037002, 634037002, 372576011,\n",
      "       372576011, 579541001, 662868001, 660599001, 537688014, 676990002,\n",
      "       537346024, 637515002, 685687004, 617620001, 671011001, 549914003,\n",
      "       612075002, 642631003, 635741001, 534357005, 624486006, 662592002,\n",
      "       624486009, 591088001, 625939013, 625939013, 594987005, 211143022,\n",
      "       629551004, 555347001, 555347001, 555347001, 399201024, 399201024,\n",
      "       399201005, 399201005, 399136027, 399136027, 569244002, 622958003,\n",
      "       701398001, 662741001, 464454004, 642437005, 633781015, 648940001,\n",
      "       661794001, 661794001, 661794002, 661794002, 532954003, 539723005,\n",
      "       622956005, 676166001, 646171001, 487932024, 487932038, 626441007,\n",
      "       626441007, 567657006, 567657006, 591334003, 591334003, 524825010,\n",
      "       524825010, 519773002, 556379003, 524825010, 537612014, 638204002,\n",
      "       616225010, 306847002])>}\n"
     ]
    },
    {
     "name": "stderr",
     "output_type": "stream",
     "text": [
      "2022-03-03 12:15:18.744763: W tensorflow/core/kernels/data/cache_dataset_ops.cc:768] The calling iterator did not fully read the dataset being cached. In order to avoid unexpected truncation of the dataset, the partially cached contents of the dataset  will be discarded. This can happen if you have an input pipeline similar to `dataset.cache().take(k).repeat()`. You should use `dataset.take(k).cache().repeat()` instead.\n"
     ]
    }
   ],
   "source": [
    "for i in cached_train.take(1):\n",
    "    print(i)"
   ]
  },
  {
   "cell_type": "code",
   "execution_count": 17,
   "id": "615966b2-4021-4e1a-89bb-23c33311a369",
   "metadata": {},
   "outputs": [
    {
     "name": "stdout",
     "output_type": "stream",
     "text": [
      " 1743/24708 [=>............................] - ETA: 2:50:17 - factorized_top_k/top_1_categorical_accuracy: 4.4822e-06 - factorized_top_k/top_5_categorical_accuracy: 0.0086 - factorized_top_k/top_10_categorical_accuracy: 0.0129 - factorized_top_k/top_50_categorical_accuracy: 0.0296 - factorized_top_k/top_100_categorical_accuracy: 0.0414 - loss: 620.8128 - regularization_loss: 0.0000e+00 - total_loss: 620.8128"
     ]
    },
    {
     "ename": "KeyboardInterrupt",
     "evalue": "",
     "output_type": "error",
     "traceback": [
      "\u001b[0;31m---------------------------------------------------------------------------\u001b[0m",
      "\u001b[0;31mKeyboardInterrupt\u001b[0m                         Traceback (most recent call last)",
      "\u001b[0;32m/tmp/ipykernel_13136/1968804333.py\u001b[0m in \u001b[0;36m<module>\u001b[0;34m\u001b[0m\n\u001b[0;32m----> 1\u001b[0;31m \u001b[0mmodel\u001b[0m\u001b[0;34m.\u001b[0m\u001b[0mfit\u001b[0m\u001b[0;34m(\u001b[0m\u001b[0mcached_train\u001b[0m\u001b[0;34m)\u001b[0m\u001b[0;34m\u001b[0m\u001b[0;34m\u001b[0m\u001b[0m\n\u001b[0m",
      "\u001b[0;32m~/py3n/lib/python3.7/site-packages/keras/utils/traceback_utils.py\u001b[0m in \u001b[0;36merror_handler\u001b[0;34m(*args, **kwargs)\u001b[0m\n\u001b[1;32m     62\u001b[0m     \u001b[0mfiltered_tb\u001b[0m \u001b[0;34m=\u001b[0m \u001b[0;32mNone\u001b[0m\u001b[0;34m\u001b[0m\u001b[0;34m\u001b[0m\u001b[0m\n\u001b[1;32m     63\u001b[0m     \u001b[0;32mtry\u001b[0m\u001b[0;34m:\u001b[0m\u001b[0;34m\u001b[0m\u001b[0;34m\u001b[0m\u001b[0m\n\u001b[0;32m---> 64\u001b[0;31m       \u001b[0;32mreturn\u001b[0m \u001b[0mfn\u001b[0m\u001b[0;34m(\u001b[0m\u001b[0;34m*\u001b[0m\u001b[0margs\u001b[0m\u001b[0;34m,\u001b[0m \u001b[0;34m**\u001b[0m\u001b[0mkwargs\u001b[0m\u001b[0;34m)\u001b[0m\u001b[0;34m\u001b[0m\u001b[0;34m\u001b[0m\u001b[0m\n\u001b[0m\u001b[1;32m     65\u001b[0m     \u001b[0;32mexcept\u001b[0m \u001b[0mException\u001b[0m \u001b[0;32mas\u001b[0m \u001b[0me\u001b[0m\u001b[0;34m:\u001b[0m  \u001b[0;31m# pylint: disable=broad-except\u001b[0m\u001b[0;34m\u001b[0m\u001b[0;34m\u001b[0m\u001b[0m\n\u001b[1;32m     66\u001b[0m       \u001b[0mfiltered_tb\u001b[0m \u001b[0;34m=\u001b[0m \u001b[0m_process_traceback_frames\u001b[0m\u001b[0;34m(\u001b[0m\u001b[0me\u001b[0m\u001b[0;34m.\u001b[0m\u001b[0m__traceback__\u001b[0m\u001b[0;34m)\u001b[0m\u001b[0;34m\u001b[0m\u001b[0;34m\u001b[0m\u001b[0m\n",
      "\u001b[0;32m~/py3n/lib/python3.7/site-packages/keras/engine/training.py\u001b[0m in \u001b[0;36mfit\u001b[0;34m(self, x, y, batch_size, epochs, verbose, callbacks, validation_split, validation_data, shuffle, class_weight, sample_weight, initial_epoch, steps_per_epoch, validation_steps, validation_batch_size, validation_freq, max_queue_size, workers, use_multiprocessing)\u001b[0m\n\u001b[1;32m   1382\u001b[0m                 _r=1):\n\u001b[1;32m   1383\u001b[0m               \u001b[0mcallbacks\u001b[0m\u001b[0;34m.\u001b[0m\u001b[0mon_train_batch_begin\u001b[0m\u001b[0;34m(\u001b[0m\u001b[0mstep\u001b[0m\u001b[0;34m)\u001b[0m\u001b[0;34m\u001b[0m\u001b[0;34m\u001b[0m\u001b[0m\n\u001b[0;32m-> 1384\u001b[0;31m               \u001b[0mtmp_logs\u001b[0m \u001b[0;34m=\u001b[0m \u001b[0mself\u001b[0m\u001b[0;34m.\u001b[0m\u001b[0mtrain_function\u001b[0m\u001b[0;34m(\u001b[0m\u001b[0miterator\u001b[0m\u001b[0;34m)\u001b[0m\u001b[0;34m\u001b[0m\u001b[0;34m\u001b[0m\u001b[0m\n\u001b[0m\u001b[1;32m   1385\u001b[0m               \u001b[0;32mif\u001b[0m \u001b[0mdata_handler\u001b[0m\u001b[0;34m.\u001b[0m\u001b[0mshould_sync\u001b[0m\u001b[0;34m:\u001b[0m\u001b[0;34m\u001b[0m\u001b[0;34m\u001b[0m\u001b[0m\n\u001b[1;32m   1386\u001b[0m                 \u001b[0mcontext\u001b[0m\u001b[0;34m.\u001b[0m\u001b[0masync_wait\u001b[0m\u001b[0;34m(\u001b[0m\u001b[0;34m)\u001b[0m\u001b[0;34m\u001b[0m\u001b[0;34m\u001b[0m\u001b[0m\n",
      "\u001b[0;32m~/py3n/lib/python3.7/site-packages/tensorflow/python/util/traceback_utils.py\u001b[0m in \u001b[0;36merror_handler\u001b[0;34m(*args, **kwargs)\u001b[0m\n\u001b[1;32m    148\u001b[0m     \u001b[0mfiltered_tb\u001b[0m \u001b[0;34m=\u001b[0m \u001b[0;32mNone\u001b[0m\u001b[0;34m\u001b[0m\u001b[0;34m\u001b[0m\u001b[0m\n\u001b[1;32m    149\u001b[0m     \u001b[0;32mtry\u001b[0m\u001b[0;34m:\u001b[0m\u001b[0;34m\u001b[0m\u001b[0;34m\u001b[0m\u001b[0m\n\u001b[0;32m--> 150\u001b[0;31m       \u001b[0;32mreturn\u001b[0m \u001b[0mfn\u001b[0m\u001b[0;34m(\u001b[0m\u001b[0;34m*\u001b[0m\u001b[0margs\u001b[0m\u001b[0;34m,\u001b[0m \u001b[0;34m**\u001b[0m\u001b[0mkwargs\u001b[0m\u001b[0;34m)\u001b[0m\u001b[0;34m\u001b[0m\u001b[0;34m\u001b[0m\u001b[0m\n\u001b[0m\u001b[1;32m    151\u001b[0m     \u001b[0;32mexcept\u001b[0m \u001b[0mException\u001b[0m \u001b[0;32mas\u001b[0m \u001b[0me\u001b[0m\u001b[0;34m:\u001b[0m\u001b[0;34m\u001b[0m\u001b[0;34m\u001b[0m\u001b[0m\n\u001b[1;32m    152\u001b[0m       \u001b[0mfiltered_tb\u001b[0m \u001b[0;34m=\u001b[0m \u001b[0m_process_traceback_frames\u001b[0m\u001b[0;34m(\u001b[0m\u001b[0me\u001b[0m\u001b[0;34m.\u001b[0m\u001b[0m__traceback__\u001b[0m\u001b[0;34m)\u001b[0m\u001b[0;34m\u001b[0m\u001b[0;34m\u001b[0m\u001b[0m\n",
      "\u001b[0;32m~/py3n/lib/python3.7/site-packages/tensorflow/python/eager/def_function.py\u001b[0m in \u001b[0;36m__call__\u001b[0;34m(self, *args, **kwds)\u001b[0m\n\u001b[1;32m    913\u001b[0m \u001b[0;34m\u001b[0m\u001b[0m\n\u001b[1;32m    914\u001b[0m       \u001b[0;32mwith\u001b[0m \u001b[0mOptionalXlaContext\u001b[0m\u001b[0;34m(\u001b[0m\u001b[0mself\u001b[0m\u001b[0;34m.\u001b[0m\u001b[0m_jit_compile\u001b[0m\u001b[0;34m)\u001b[0m\u001b[0;34m:\u001b[0m\u001b[0;34m\u001b[0m\u001b[0;34m\u001b[0m\u001b[0m\n\u001b[0;32m--> 915\u001b[0;31m         \u001b[0mresult\u001b[0m \u001b[0;34m=\u001b[0m \u001b[0mself\u001b[0m\u001b[0;34m.\u001b[0m\u001b[0m_call\u001b[0m\u001b[0;34m(\u001b[0m\u001b[0;34m*\u001b[0m\u001b[0margs\u001b[0m\u001b[0;34m,\u001b[0m \u001b[0;34m**\u001b[0m\u001b[0mkwds\u001b[0m\u001b[0;34m)\u001b[0m\u001b[0;34m\u001b[0m\u001b[0;34m\u001b[0m\u001b[0m\n\u001b[0m\u001b[1;32m    916\u001b[0m \u001b[0;34m\u001b[0m\u001b[0m\n\u001b[1;32m    917\u001b[0m       \u001b[0mnew_tracing_count\u001b[0m \u001b[0;34m=\u001b[0m \u001b[0mself\u001b[0m\u001b[0;34m.\u001b[0m\u001b[0mexperimental_get_tracing_count\u001b[0m\u001b[0;34m(\u001b[0m\u001b[0;34m)\u001b[0m\u001b[0;34m\u001b[0m\u001b[0;34m\u001b[0m\u001b[0m\n",
      "\u001b[0;32m~/py3n/lib/python3.7/site-packages/tensorflow/python/eager/def_function.py\u001b[0m in \u001b[0;36m_call\u001b[0;34m(self, *args, **kwds)\u001b[0m\n\u001b[1;32m    945\u001b[0m       \u001b[0;31m# In this case we have created variables on the first call, so we run the\u001b[0m\u001b[0;34m\u001b[0m\u001b[0;34m\u001b[0m\u001b[0;34m\u001b[0m\u001b[0m\n\u001b[1;32m    946\u001b[0m       \u001b[0;31m# defunned version which is guaranteed to never create variables.\u001b[0m\u001b[0;34m\u001b[0m\u001b[0;34m\u001b[0m\u001b[0;34m\u001b[0m\u001b[0m\n\u001b[0;32m--> 947\u001b[0;31m       \u001b[0;32mreturn\u001b[0m \u001b[0mself\u001b[0m\u001b[0;34m.\u001b[0m\u001b[0m_stateless_fn\u001b[0m\u001b[0;34m(\u001b[0m\u001b[0;34m*\u001b[0m\u001b[0margs\u001b[0m\u001b[0;34m,\u001b[0m \u001b[0;34m**\u001b[0m\u001b[0mkwds\u001b[0m\u001b[0;34m)\u001b[0m  \u001b[0;31m# pylint: disable=not-callable\u001b[0m\u001b[0;34m\u001b[0m\u001b[0;34m\u001b[0m\u001b[0m\n\u001b[0m\u001b[1;32m    948\u001b[0m     \u001b[0;32melif\u001b[0m \u001b[0mself\u001b[0m\u001b[0;34m.\u001b[0m\u001b[0m_stateful_fn\u001b[0m \u001b[0;32mis\u001b[0m \u001b[0;32mnot\u001b[0m \u001b[0;32mNone\u001b[0m\u001b[0;34m:\u001b[0m\u001b[0;34m\u001b[0m\u001b[0;34m\u001b[0m\u001b[0m\n\u001b[1;32m    949\u001b[0m       \u001b[0;31m# Release the lock early so that multiple threads can perform the call\u001b[0m\u001b[0;34m\u001b[0m\u001b[0;34m\u001b[0m\u001b[0;34m\u001b[0m\u001b[0m\n",
      "\u001b[0;32m~/py3n/lib/python3.7/site-packages/tensorflow/python/eager/function.py\u001b[0m in \u001b[0;36m__call__\u001b[0;34m(self, *args, **kwargs)\u001b[0m\n\u001b[1;32m   2955\u001b[0m        filtered_flat_args) = self._maybe_define_function(args, kwargs)\n\u001b[1;32m   2956\u001b[0m     return graph_function._call_flat(\n\u001b[0;32m-> 2957\u001b[0;31m         filtered_flat_args, captured_inputs=graph_function.captured_inputs)  # pylint: disable=protected-access\n\u001b[0m\u001b[1;32m   2958\u001b[0m \u001b[0;34m\u001b[0m\u001b[0m\n\u001b[1;32m   2959\u001b[0m   \u001b[0;34m@\u001b[0m\u001b[0mproperty\u001b[0m\u001b[0;34m\u001b[0m\u001b[0;34m\u001b[0m\u001b[0m\n",
      "\u001b[0;32m~/py3n/lib/python3.7/site-packages/tensorflow/python/eager/function.py\u001b[0m in \u001b[0;36m_call_flat\u001b[0;34m(self, args, captured_inputs, cancellation_manager)\u001b[0m\n\u001b[1;32m   1852\u001b[0m       \u001b[0;31m# No tape is watching; skip to running the function.\u001b[0m\u001b[0;34m\u001b[0m\u001b[0;34m\u001b[0m\u001b[0;34m\u001b[0m\u001b[0m\n\u001b[1;32m   1853\u001b[0m       return self._build_call_outputs(self._inference_function.call(\n\u001b[0;32m-> 1854\u001b[0;31m           ctx, args, cancellation_manager=cancellation_manager))\n\u001b[0m\u001b[1;32m   1855\u001b[0m     forward_backward = self._select_forward_and_backward_functions(\n\u001b[1;32m   1856\u001b[0m         \u001b[0margs\u001b[0m\u001b[0;34m,\u001b[0m\u001b[0;34m\u001b[0m\u001b[0;34m\u001b[0m\u001b[0m\n",
      "\u001b[0;32m~/py3n/lib/python3.7/site-packages/tensorflow/python/eager/function.py\u001b[0m in \u001b[0;36mcall\u001b[0;34m(self, ctx, args, cancellation_manager)\u001b[0m\n\u001b[1;32m    502\u001b[0m               \u001b[0minputs\u001b[0m\u001b[0;34m=\u001b[0m\u001b[0margs\u001b[0m\u001b[0;34m,\u001b[0m\u001b[0;34m\u001b[0m\u001b[0;34m\u001b[0m\u001b[0m\n\u001b[1;32m    503\u001b[0m               \u001b[0mattrs\u001b[0m\u001b[0;34m=\u001b[0m\u001b[0mattrs\u001b[0m\u001b[0;34m,\u001b[0m\u001b[0;34m\u001b[0m\u001b[0;34m\u001b[0m\u001b[0m\n\u001b[0;32m--> 504\u001b[0;31m               ctx=ctx)\n\u001b[0m\u001b[1;32m    505\u001b[0m         \u001b[0;32melse\u001b[0m\u001b[0;34m:\u001b[0m\u001b[0;34m\u001b[0m\u001b[0;34m\u001b[0m\u001b[0m\n\u001b[1;32m    506\u001b[0m           outputs = execute.execute_with_cancellation(\n",
      "\u001b[0;32m~/py3n/lib/python3.7/site-packages/tensorflow/python/eager/execute.py\u001b[0m in \u001b[0;36mquick_execute\u001b[0;34m(op_name, num_outputs, inputs, attrs, ctx, name)\u001b[0m\n\u001b[1;32m     53\u001b[0m     \u001b[0mctx\u001b[0m\u001b[0;34m.\u001b[0m\u001b[0mensure_initialized\u001b[0m\u001b[0;34m(\u001b[0m\u001b[0;34m)\u001b[0m\u001b[0;34m\u001b[0m\u001b[0;34m\u001b[0m\u001b[0m\n\u001b[1;32m     54\u001b[0m     tensors = pywrap_tfe.TFE_Py_Execute(ctx._handle, device_name, op_name,\n\u001b[0;32m---> 55\u001b[0;31m                                         inputs, attrs, num_outputs)\n\u001b[0m\u001b[1;32m     56\u001b[0m   \u001b[0;32mexcept\u001b[0m \u001b[0mcore\u001b[0m\u001b[0;34m.\u001b[0m\u001b[0m_NotOkStatusException\u001b[0m \u001b[0;32mas\u001b[0m \u001b[0me\u001b[0m\u001b[0;34m:\u001b[0m\u001b[0;34m\u001b[0m\u001b[0;34m\u001b[0m\u001b[0m\n\u001b[1;32m     57\u001b[0m     \u001b[0;32mif\u001b[0m \u001b[0mname\u001b[0m \u001b[0;32mis\u001b[0m \u001b[0;32mnot\u001b[0m \u001b[0;32mNone\u001b[0m\u001b[0;34m:\u001b[0m\u001b[0;34m\u001b[0m\u001b[0;34m\u001b[0m\u001b[0m\n",
      "\u001b[0;31mKeyboardInterrupt\u001b[0m: "
     ]
    }
   ],
   "source": [
    "model.fit(cached_train)"
   ]
  },
  {
   "cell_type": "code",
   "execution_count": 26,
   "id": "18e1a24f-2bc8-48ef-82bc-7eaa51cc653c",
   "metadata": {},
   "outputs": [
    {
     "data": {
      "text/plain": [
       "(131,)"
      ]
     },
     "execution_count": 26,
     "metadata": {},
     "output_type": "execute_result"
    }
   ],
   "source": [
    "np.unique(data.articles.product_type_name.values).shape"
   ]
  },
  {
   "cell_type": "code",
   "execution_count": null,
   "id": "79e5c298-8bd7-4abf-8472-15b7b6be7e3d",
   "metadata": {},
   "outputs": [],
   "source": []
  },
  {
   "cell_type": "code",
   "execution_count": null,
   "id": "249d7251-05a7-412f-b26e-f2708fe49724",
   "metadata": {},
   "outputs": [],
   "source": []
  },
  {
   "cell_type": "code",
   "execution_count": null,
   "id": "5c0362a5-1424-4bb8-aa34-69e8bf037140",
   "metadata": {},
   "outputs": [],
   "source": []
  }
 ],
 "metadata": {
  "kernelspec": {
   "display_name": "Python 3 (ipykernel)",
   "language": "python",
   "name": "python3"
  },
  "language_info": {
   "codemirror_mode": {
    "name": "ipython",
    "version": 3
   },
   "file_extension": ".py",
   "mimetype": "text/x-python",
   "name": "python",
   "nbconvert_exporter": "python",
   "pygments_lexer": "ipython3",
   "version": "3.7.5"
  }
 },
 "nbformat": 4,
 "nbformat_minor": 5
}
